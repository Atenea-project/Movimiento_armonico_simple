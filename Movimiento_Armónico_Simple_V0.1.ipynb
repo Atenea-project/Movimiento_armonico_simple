{
 "cells": [
  {
   "cell_type": "markdown",
   "metadata": {},
   "source": [
    "<!--NOTEBOOK_HEADER-->\n",
    "Este cuadernillo fue desarrollado por\n",
    "\n",
    "A. Natahel C. C. \n",
    "\n",
    "Para la Facultad de Química de la Universidad Nacional Autónoma de México\n",
    "\n",
    "El código de este cuadernillo está protegido bajo una [licencia GNU General Public License v3.0](https://opensource.org/licenses/GPL-3.0) y el texto está protegido una [licencia CC BY-SA 4.0](https://creativecommons.org/licenses/by-sa/4.0/).\n",
    "\n",
    "Movimiento_Armónico_Simple_V0.1"
   ]
  },
  {
   "cell_type": "markdown",
   "metadata": {},
   "source": [
    "# Práctica 1, Movimiento Armonico Simple"
   ]
  },
  {
   "cell_type": "markdown",
   "metadata": {},
   "source": [
    "## I) Teoría.\n",
    "\n",
    "El movimiento armónico simple (MAS) es el que describe a los cuerpos que oscilan o vibran. Como su nombre lo indica él MAS es la forma más básica de descripción de este movimiento, entre las simplificaciones que contempla este modelo es la nula perdida de energía del sistema. \n",
    "\n",
    "En este cuadernillo veremos tres ejemplos generales de MAS\n",
    "\n",
    "    1) Una masa acoplada a un resorte\n",
    "    2) Un péndulo\n",
    "    3) Un circuito LC\n",
    "\n",
    "### 1) Masa acoplada a un resorte\n",
    "\n",
    "La ley de Hooke se puede modelar como un sistema con movimiento armónico simple.\n",
    "\n",
    "\\begin{equation}\n",
    "F = -kx\n",
    "\\end{equation}\n",
    "\n",
    "Donde:\n",
    "\n",
    "F = Fuerza [$N$]\n",
    "\n",
    "k = Constante de restitución [$\\frac{kg}{s^2}$]\n",
    "\n",
    "x = Distancia [$m$]\n",
    "\n",
    "\n",
    "Podemos expresar a la ecuación anterior como una ecuación diferencial al igualarla con la segunda ley de Newton y realizar el álgebra correspondiente\n",
    "\n",
    "$$\\frac{d^2x}{dt^2}+\\frac{kx}{m}=0$$\n",
    "\n",
    "Con lo que nos queda una ecuación diferencial de tipo:\n",
    "\n",
    "\\begin{equation}\\label{ED_MAS}\n",
    "\\frac{d^2x}{dt^2}+\\omega^2x=0\n",
    "\\end{equation}\n",
    "\n",
    "Tal que:\n",
    "\n",
    "\\begin{equation}\\label{f(x)_ED_MAS}\n",
    "x=C_1e ^{i\\omega t}+C_2e ^{-i\\omega t}\n",
    "\\end{equation}\n",
    "\n",
    "\\begin{equation}\\label{omega_Hooke}\n",
    "\\omega^2 = \\frac{k}{m}\n",
    "\\end{equation}\n",
    "\n",
    "\\begin{equation}\\label{omega}\n",
    "\\omega = \\frac{2\\pi}{T}=[\\frac{rad}{s}]\n",
    "\\end{equation}\n",
    "\n",
    "Definimos a $\\omega$ como la frecuencia angular, que es el tiempo que tarda el oscilador en completar una oscilación que equivalen a $2\\pi$ radianes.\n",
    "Recordando la relación de Euler, $e ^{\\pm i\\theta}= \\cos{\\theta}\\pm i sen{\\theta}$ y aplicándola a la ecuación diferencial obtenemos:\n",
    "\n",
    "$$x=C_1\\cos(\\omega_0t)+i \\sin(\\omega_0t)+C_2\\cos(\\omega_0t)-i \\sin (\\omega_0t)$$\n",
    "\n",
    "Definimos\n",
    "\n",
    "\\begin{align*}\n",
    "C_1+C_2&=A\\cos(\\phi)\\\\\n",
    "C_1-C_2&=iA\\sin(\\phi)   \n",
    "\\end{align*}\n",
    "\n",
    "Ahora podemos definir la ecuación para describir el movimiento armónico simple.\n",
    "\n",
    "\\begin{equation}\n",
    "x=A\\cos(\\omega_0t+\\phi)\n",
    "\\end{equation}\n",
    "\n",
    "Al aplicar la primera y la segunda derivada podemos encontrar tanto la velocidad como a aceleración.\n",
    "\n",
    "\\begin{equation}\\label{Velocidad_OAS}\n",
    "v=\\frac{dx}{dt}=-A\\omega_0\\sin(\\omega_0t+\\phi)\n",
    "\\end{equation}\n",
    "\n",
    "\\begin{equation}\\label{Aceleracion_OAS}\n",
    "a=\\frac{dx}{dt}=-A\\omega_0^2\\cos(\\omega_0t+\\phi)\n",
    "\\end{equation}"
   ]
  },
  {
   "cell_type": "markdown",
   "metadata": {},
   "source": [
    "### 1.2) Código, masa acoplada a un resorte.\n",
    "Crearemos una función con la que podemos graficar la variación de la distancia del resorte conforme avanza el tiempo. \n",
    "\n",
    "Iremos variando los parámetros de nuestra gráfica para ver como afectan las variaciones en la constante del resorte $k$, la amplitud $A$ y el desfase $\\phi$.\n",
    "\n",
    "Por último compararemos la gráfica de velocidad y aceleración con la gráfica de posición.\n",
    "\n",
    "Primero importamos las librerías adecuadas "
   ]
  },
  {
   "cell_type": "code",
   "execution_count": 1,
   "metadata": {},
   "outputs": [],
   "source": [
    "import numpy as np\n",
    "import matplotlib.pyplot as plt\n",
    "from ipywidgets import interact,interactive, fixed"
   ]
  },
  {
   "cell_type": "markdown",
   "metadata": {},
   "source": [
    "Ahora crearemos una función 'pos' que describa la posición de una masa acoplada a un resorte con respecto al tiempo, la ecuación que describe este fenómeno es \n",
    "\n",
    "\\begin{equation}\n",
    "x=A\\cos(\\omega_0t+\\phi)\n",
    "\\end{equation}\n",
    "\n",
    "en este caso los parámetros que les pasaremos a la función son\n",
    "\n",
    "    - 'A': Amplitud.\n",
    "    - 'w': Frecuencia angular.\n",
    "    - 'phi': Desfase.\n",
    "\n",
    "también tenemos que generar un espacio lineal de los tiempos 't' para evaluar a la función.\n",
    "\n",
    "Las funciones que pueden ser útiles son:\n",
    "\n",
    "    - np.linspace(x,y,z), que genera un espacio lineal desde 'x' hasta 'y' con 'z' elementos.\n",
    "    - np.cos(x), que calcula el coseno de 'x'\n",
    "    - plt.xlabel('i'), pone la etiqueta 'i' en el eje X\n",
    "    - plt.ylabel('i'), pone la etiqueta 'i' en el eje Y\n",
    "    - plt.axis([w,x,y,z]), establece el eje X de 'w' a 'x' y el eje Y de 'y' a 'z' \n",
    "    - plt.plot(x,y), genera una gráfica en función de 'x' e 'y'\n",
    "\n",
    "te recomendamos que establezcas los ejes de [0,10,-12,12], que el espacio lineal para el tiempo 't' sea de 0 a 10 y con 200 elementos, 'x' describe la posición, por lo que tendrás que programar la ecuación deducida."
   ]
  },
  {
   "cell_type": "code",
   "execution_count": 2,
   "metadata": {},
   "outputs": [],
   "source": [
    "def pos(A,w,phi):\n",
    "    #--Escribe tu función--\n",
    "    t=0\n",
    "    x=0\n",
    "    plt.xlabel('')\n",
    "    plt.ylabel('')\n",
    "    plt.axis(0)\n",
    "    #--Termina de programar--\n",
    "    return(plt.plot(t,x))"
   ]
  },
  {
   "cell_type": "markdown",
   "metadata": {},
   "source": [
    "De preferencia trata de programar las funciones por tu cuenta para que puedas aprender pero en caso de que no estes llegando a la solución puedes ver una forma de programarlo dando doble click sobre la celda que dice 'Solución:'.\n",
    "\n",
    "Solución:\n",
    "$\n",
    "%def pos(A,w,phi):\n",
    "%    t=np.linspace(0,10,200)\n",
    "%    x=A*np.cos(w*t+phi)\n",
    "%    plt.xlabel('Tiempo')\n",
    "%    plt.ylabel('Amplitud')\n",
    "%    plt.axis([0,10,-12,12])\n",
    "%    return(plt.plot(t,x))\n",
    "$"
   ]
  },
  {
   "cell_type": "markdown",
   "metadata": {},
   "source": [
    "Generamos una gráfica interactiva con la función 'pos'\n",
    "\n",
    "    - interact(w,x=(a,b),...,z=(s,d)), genera una gráfica interactiva de la función 'w' donde los parámetros de la función de 'x' varían de 'a' a 'b', hasta 'z' varían de 's' a 'd'.\n",
    "    \n",
    "en este caso te recomendamos que 'A', 'w' y 'phi' vayan de 0 a 10."
   ]
  },
  {
   "cell_type": "code",
   "execution_count": 3,
   "metadata": {},
   "outputs": [],
   "source": [
    "#Borra el '#' de la siguiente linea y configura los parametros.\n",
    "#interact(pos,A=(),w=(),phi=())"
   ]
  },
  {
   "cell_type": "markdown",
   "metadata": {},
   "source": [
    "Ahora crearemos una función 'vel' que describa la posición de una masa acoplada a un resorte con respecto al tiempo, la ecuación que describe este fenómeno es \n",
    "\n",
    "\\begin{equation}\n",
    "v=\\frac{dx}{dt}=-A\\omega_0\\sin(\\omega_0t+\\phi)\n",
    "\\end{equation}\n",
    "\n",
    "esta función se creara de manera muy similar a la función de 'pos', solo te recomendamos que establezcas los ejes de [0,10,-120,120]."
   ]
  },
  {
   "cell_type": "code",
   "execution_count": 4,
   "metadata": {},
   "outputs": [],
   "source": [
    "def vel(A,w,phi):\n",
    "    t=np.linspace(0,10,200)\n",
    "    #--Inicia a programar--\n",
    "    v=0\n",
    "    plt.axis()\n",
    "    #--Termina de programar--\n",
    "    plt.xlabel('Tiempo')\n",
    "    plt.ylabel('Amplitud')\n",
    "    return(plt.plot(t,v))"
   ]
  },
  {
   "cell_type": "markdown",
   "metadata": {},
   "source": [
    "Solución:\n",
    "$\n",
    "%def vel(A,w,phi):\n",
    "%    t=np.linspace(0,10,200)\n",
    "%    v=-A*w*np.sin(w*t+phi)\n",
    "%    plt.xlabel('Tiempo')\n",
    "%    plt.ylabel('Amplitud')\n",
    "%    plt.axis([0,10,-120,120])\n",
    "%    return(plt.plot(t,v))\n",
    "$"
   ]
  },
  {
   "cell_type": "markdown",
   "metadata": {},
   "source": [
    "Generamos una gráfica interactiva con la función 'vel', en este caso te recomendamos que 'A', 'w' y 'phi' vayan de 0 a 10."
   ]
  },
  {
   "cell_type": "code",
   "execution_count": 5,
   "metadata": {},
   "outputs": [],
   "source": [
    "#Borra el '#' de la siguiente linea y configura los parametros.\n",
    "#interact(vel,A=(),w=(),phi=())"
   ]
  },
  {
   "cell_type": "markdown",
   "metadata": {},
   "source": [
    "Ahora crearemos una función 'vel' que describa la posición de una masa acoplada a un resorte con respecto al tiempo, la ecuación que describe este fenómeno es \n",
    "\n",
    "\n",
    "\\begin{equation}\n",
    "a=\\frac{dx}{dt}=-A\\omega_0^2\\cos(\\omega_0t+\\phi)\n",
    "\\end{equation}\n",
    "\n",
    "\n",
    "esta función se creara de manera muy similar a la función de 'pos', solo te recomendamos que establezcas los ejes de [0,10,-1000,1000]."
   ]
  },
  {
   "cell_type": "code",
   "execution_count": 6,
   "metadata": {},
   "outputs": [],
   "source": [
    "def acel(A,w,phi):\n",
    "    t=np.linspace(0,10,200)\n",
    "    #--Inicia a programar--\n",
    "    a=0\n",
    "    plt.axis()\n",
    "    #--Termina de programar--\n",
    "    plt.xlabel('Tiempo')\n",
    "    plt.ylabel('Amplitud')\n",
    "    return(plt.plot(t,a))"
   ]
  },
  {
   "cell_type": "markdown",
   "metadata": {},
   "source": [
    "Solución:\n",
    "$\n",
    "%def acel(A,w,phi):\n",
    "%    t=np.linspace(0,10,200)\n",
    "%    a=-A*(w**2)*np.cos(w*t+phi)\n",
    "%    plt.xlabel('Tiempo')\n",
    "%    plt.ylabel('Amplitud')\n",
    "%    plt.axis([0,10,-1000,1000])\n",
    "%    return(plt.plot(t,a))\n",
    "$"
   ]
  },
  {
   "cell_type": "markdown",
   "metadata": {},
   "source": [
    "Generamos una gráfica interactiva con la función 'acel', en este caso te recomendamos que 'A', 'w' y 'phi' vayan de 0 a 10."
   ]
  },
  {
   "cell_type": "code",
   "execution_count": 7,
   "metadata": {},
   "outputs": [],
   "source": [
    "#Borra el '#' de la siguiente linea y configura los parametros.\n",
    "#interact(acel,A=(),w=(),phi=())"
   ]
  },
  {
   "cell_type": "markdown",
   "metadata": {},
   "source": [
    "### 2) Un péndulo\n",
    "\n",
    "\n",
    "Es un sistema de movimiento armónico simple que consiste en una masa puntual que pende de un hilo no estirable y se contempla que no hay fuerzas disipativas.\n",
    "\n",
    "Definimos a la fuerza y a la aceleración tangencial de la siguiente manera.\n",
    "\n",
    "\\begin{equation}\\label{Fuerza_tangencial}\n",
    "    F=-mg\\sin(\\theta)\n",
    "\\end{equation}\n",
    "\n",
    "\\begin{equation}\\label{Aceleracion_tangencial}\n",
    "    a=L\\frac{d^2\\theta}{dt^2}\n",
    "\\end{equation}\n",
    "\n",
    "Al ser el péndulo simple un sistema conservativo podemos describir al sistema con una ecuación diferencial basándonos en las ecuaciones previas.\n",
    "\n",
    "\\begin{align*}\n",
    "    mL\\frac{d^2\\theta}{dt^2}=-mg\\sin(\\theta)\\\\\n",
    "    \\frac{d^2\\theta}{dt^2}+\\frac{g}{L}\\sin(\\theta)=0\\\\\n",
    "\\end{align*}\n",
    "\n",
    "Aplicando la aproximación del angulo pequeño.\n",
    "\n",
    "\\begin{equation}\n",
    "    \\frac{d^2\\theta}{dt^2}+\\frac{g}{L}\\theta=0\\\n",
    "\\end{equation}\n",
    "\n",
    "Tal que:\n",
    "\n",
    "\\begin{equation}\n",
    "    \\omega^2=\\frac{g}{L}\n",
    "\\end{equation}\n",
    "\n",
    "\\begin{equation}\n",
    "    T=2\\pi\\sqrt{\\frac{L}{g}}\n",
    "\\end{equation}\n",
    "\n",
    "\\begin{equation}\n",
    "    \\theta=\\theta_0\\cos(\\omega t+\\phi)\n",
    "\\end{equation}\n",
    "\n",
    "Donde $\\theta_0$ es el angulo de amplitud máxima.\n"
   ]
  },
  {
   "cell_type": "markdown",
   "metadata": {},
   "source": [
    "### 2.2) Código péndulo.\n",
    "\n",
    "Partimos de la ecuación que describe el angulo a lo largo del tiempo\n",
    "\n",
    "\\begin{equation}\n",
    "    \\theta=\\theta_0\\cos(\\omega t+\\phi)\n",
    "\\end{equation}\n",
    "\n",
    "tal que \n",
    "\n",
    "\\begin{equation}\n",
    "    \\omega^2=\\frac{g}{L}\n",
    "\\end{equation}\n",
    "\n",
    "Primero tendremos que convertir un valor de theta0 en grados a un valor en radianes, dicho valor lo asociaremos con la variable 'T0' (usamos la T por $\\theta_0$). \n",
    "\n",
    "Con el ángulo en radianes podemos usar la ecuación que describe el ángulo a lo largo del tiempo ya que contamos con todos los parámetros requeridos, asociaremos el resultado a la variable 'T'.\n",
    "\n",
    "Luego tendremos que obtener el valor de 'x' e 'y' para poder graficar a nuestro sistema, dado que tenemos el ángulo y la longitud del péndulo podemos pensar en dichas coordenadas como si fueran los lados de un triángulo rectángulo, recordando algo de trigonometría\n",
    "\n",
    "\\begin{equation}\n",
    "\\sin\\theta=\\frac{co}{h}\n",
    "\\end{equation}\n",
    "\n",
    "\\begin{equation}\n",
    "\\cos\\theta=\\frac{ca}{h}\n",
    "\\end{equation}\n",
    "\n",
    "Por último definimos la longitud de los ejes X e Y, recomendamos establecerlos de [-12,12,-12,0].\n",
    "\n",
    "**Nota**. graficamos un punto rojo en el origen para hacer un poco más obvia la trayectoria del péndulo."
   ]
  },
  {
   "cell_type": "code",
   "execution_count": 8,
   "metadata": {},
   "outputs": [],
   "source": [
    "def pend(theta0,w,phi,L,t):\n",
    "    #--Inicia a programar--\n",
    "    T0=0\n",
    "    T=0\n",
    "    x=0\n",
    "    y=0\n",
    "    plt.axis()\n",
    "    #--Termina de programar--\n",
    "    plt.xlabel('Tiempo')\n",
    "    plt.ylabel('Longitud')\n",
    "    plt.plot(0,0,'ro',color='red')\n",
    "    return(plt.plot(x,-y,'ro',color='blue'))"
   ]
  },
  {
   "cell_type": "markdown",
   "metadata": {},
   "source": [
    "Solución:\n",
    "$\n",
    "%def pend(theta0,w,phi,L,t):\n",
    "%    #t=np.linspace(0,50,10)\n",
    "%    T0=theta0*np.pi/180\n",
    "%    T=T0*np.cos(w*t+phi)\n",
    "%    x=L*np.sin(T)\n",
    "%    y=L*np.cos(T)\n",
    "%    plt.xlabel('Tiempo')\n",
    "%    plt.ylabel('Longitud')\n",
    "%    plt.axis([-12,12,-12,0])\n",
    "%    plt.plot(0,0,'ro',color='red')\n",
    "%    return(plt.plot(x,-y,'ro',color='blue'))\n",
    "$"
   ]
  },
  {
   "cell_type": "markdown",
   "metadata": {},
   "source": [
    "Generamos una gráfica interactiva con la función 'pend', en este caso te recomendamos que 'theta0' vaya de 0 a 90, 'w' vaya de 0 a 10, 'phi' vaya de -5 a 5, 'L' vaya de 0 a 10 y 't' de -6 a 6."
   ]
  },
  {
   "cell_type": "code",
   "execution_count": 9,
   "metadata": {},
   "outputs": [],
   "source": [
    "#Borra el '#' de la siguiente linea y configura los parametros.\n",
    "#interact(pend,theta0=(),w=(),phi=(),L=(),t=())"
   ]
  },
  {
   "cell_type": "markdown",
   "metadata": {},
   "source": [
    "### 3) Circuito LC.\n",
    "\n",
    "Este es un circuito conformado por un solenoide y un capacitor, donde se considera una resistencia igual a cero. Se considera que el sistema tiene un comportamiento de oscilador simple, ya que conforme el capacitor se descarga la corriente que pasa por el inductor genera una diferencia de potencial que carga al capacitor nuevamente pero con una polaridad invertida.\n",
    "Podemos definir al sistema con las siguientes ecuaciones.\n",
    "\n",
    "\\begin{align*}\n",
    "    \\Delta V_L+\\Delta V_C=0\\\\\n",
    "    \\\\\n",
    "    L\\frac{dI}{dt}+\\frac{q}{C}=0\\\\\n",
    "\\end{align*}\n",
    "\n",
    "Recordando que $I=\\frac{dq}{dt}$\n",
    "\n",
    "\\begin{align*}\n",
    "    L\\frac{d^2q}{dt^2}+\\frac{q}{C}=0\\\\\n",
    "\\end{align*}\n",
    "\n",
    "Con lo que obtenemos la ecuación diferencial que describe este sistema:\n",
    "\n",
    "\\begin{equation}\\label{ED_Circuito_LC}\n",
    "\\frac{d^2q}{dt^2}+\\frac{1}{LC}q=0\n",
    "\\end{equation}\n",
    "\n",
    "Tal que:\n",
    "\\begin{equation}\\label{Omega_Circuito_LC}\n",
    "\\omega=\\sqrt{\\frac{1}{LC}}\n",
    "\\end{equation}\n",
    "\n",
    "\\begin{equation}\\label{Carga_Circuito_LC}\n",
    "q=q_0\\cos(\\omega t+\\phi)\n",
    "\\end{equation}\n",
    "\n",
    "Si queremos obtener la diferencia de potencial de alguno de los componentes del sistema podemos usar las ecuaciones previas.\n",
    "\n",
    "\\begin{equation}\\label{VC_Circuito_LC}\n",
    "\\Delta V_C=\\frac{q}{C}=\\frac{q_0\\cos(\\omega t+\\phi)}{C}\n",
    "\\end{equation}\n",
    "\n",
    "\\begin{equation}\\label{VL_Circuito_LC}\n",
    "\\Delta V_L=L\\frac{d^2q}{dt^2}=-L\\omega^2q_0(\\cos(\\omega t+\\phi))\n",
    "\\end{equation}\n"
   ]
  },
  {
   "cell_type": "markdown",
   "metadata": {},
   "source": [
    "### 3.2) Código circuito LC.\n",
    "\n",
    "Primero graficaremos la diferencia de potencial eléctrico del capacitor 'V_c' usando la ecuación\n",
    "\n",
    "\\begin{equation}\n",
    "\\Delta V_C=\\frac{q}{C}=\\frac{q_0\\cos(\\omega t+\\phi)}{C}\n",
    "\\end{equation}\n",
    "\n",
    "para obtener dicho valor tenemos que crear un espacio lineal de python con los valores de tiempo que queremos evaluar, en este caso te recomendamos de 0 a 10 y con 200 valores.\n",
    "\n",
    "Depués asociamos a la variable 'vc' la ecuación que describe la diferencia de potencial eléctrico y por último definimos la longitud de los ejes X e Y, te recomendamos hacerlos de [0,10,-12,12].\n"
   ]
  },
  {
   "cell_type": "code",
   "execution_count": 10,
   "metadata": {},
   "outputs": [],
   "source": [
    "def V_c (q0,w,phi,C):\n",
    "    #--Inicia a programar--\n",
    "    t=0\n",
    "    vc=0\n",
    "    plt.axis()\n",
    "    #Termina de programar--\n",
    "    plt.xlabel('Tiempo')\n",
    "    plt.ylabel('Amplitud')\n",
    "    return(plt.plot(t,vc))"
   ]
  },
  {
   "cell_type": "markdown",
   "metadata": {},
   "source": [
    "Solución:\n",
    "$\n",
    "%def V_c (q0,w,phi,C):\n",
    "%    t=np.linspace(0,10,200)\n",
    "%    vc=q0*(1/C)*np.cos(w*t+phi)\n",
    "%    plt.xlabel('Tiempo')\n",
    "%    plt.ylabel('Amplitud')\n",
    "%    plt.axis([0,10,-12,12])\n",
    "%    return(plt.plot(t,vc))\n",
    "$"
   ]
  },
  {
   "cell_type": "markdown",
   "metadata": {},
   "source": [
    "Generamos una gráfica interactiva con la función 'V_c', en este caso te recomendamos que 'q_0' vaya de 0 a 10, 'w' vaya de 0 a 10, 'phi' vaya de 0 a 10 y 'C' vaya de 1 a 11."
   ]
  },
  {
   "cell_type": "code",
   "execution_count": 11,
   "metadata": {},
   "outputs": [],
   "source": [
    "#Borra el '#' de la siguiente linea y configura los parametros.\n",
    "#interact(V_c,q0=(),w=(),phi=(),C=())"
   ]
  },
  {
   "cell_type": "markdown",
   "metadata": {},
   "source": [
    "Ahora graficaremos la diferencia de potencial eléctrico del capacitor usando una función 'V_L' que describe la ecuación \n",
    "\n",
    "\\begin{equation}\n",
    "\\Delta V_L=L\\frac{d^2q}{dt^2}=-L\\omega^2q_0(\\cos(\\omega t+\\phi))\n",
    "\\end{equation}\n",
    "\n",
    "en este caso solo tienes que programar la ecuación asociada a la variable 'vl' y definir los ejes de la gráfica, te recomendamos que sean de [0,10,-300,300]."
   ]
  },
  {
   "cell_type": "code",
   "execution_count": 12,
   "metadata": {},
   "outputs": [],
   "source": [
    "def V_l (q0,w,phi,L):\n",
    "    t=np.linspace(0,10,200)\n",
    "    #--Inicia a programar--\n",
    "    vl=0\n",
    "    plt.axis()\n",
    "    #--Termina de programar--\n",
    "    plt.xlabel('Tiempo')\n",
    "    plt.ylabel('Amplitud')\n",
    "    return(plt.plot(t,vl))"
   ]
  },
  {
   "cell_type": "markdown",
   "metadata": {},
   "source": [
    "Solución:\n",
    "$\n",
    "%def V_l (q0,w,phi,L):\n",
    "%    t=np.linspace(0,10,200)\n",
    "%    vl=q0*(w**2)*(-L)*np.cos(w*t+phi)\n",
    "%    plt.axis([0,10,-300,300])\n",
    "%    plt.xlabel('Tiempo')\n",
    "%    plt.ylabel('Amplitud')\n",
    "%    return(plt.plot(t,vl))\n",
    "$"
   ]
  },
  {
   "cell_type": "markdown",
   "metadata": {},
   "source": [
    "Generamos una gráfica interactiva con la función 'V_l', en este caso te recomendamos que 'q_0' vaya de -2 a 2, 'w' vaya de 0 a 6, 'phi' vaya de 0 a 10 y 'L' vaya de 1 a 5."
   ]
  },
  {
   "cell_type": "code",
   "execution_count": 13,
   "metadata": {},
   "outputs": [],
   "source": [
    "#Borra el '#' de la siguiente linea y configura los parametros.\n",
    "#interact(V_l,q0=(),w=(),phi=(),L=())"
   ]
  }
 ],
 "metadata": {
  "kernelspec": {
   "display_name": "Python 3",
   "language": "python",
   "name": "python3"
  },
  "language_info": {
   "codemirror_mode": {
    "name": "ipython",
    "version": 3
   },
   "file_extension": ".py",
   "mimetype": "text/x-python",
   "name": "python",
   "nbconvert_exporter": "python",
   "pygments_lexer": "ipython3",
   "version": "3.7.7"
  }
 },
 "nbformat": 4,
 "nbformat_minor": 4
}
